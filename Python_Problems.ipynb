{
  "nbformat": 4,
  "nbformat_minor": 0,
  "metadata": {
    "colab": {
      "provenance": [],
      "authorship_tag": "ABX9TyM1OK64vqKPf04+kDHXZ1UY",
      "include_colab_link": true
    },
    "kernelspec": {
      "name": "python3",
      "display_name": "Python 3"
    },
    "language_info": {
      "name": "python"
    }
  },
  "cells": [
    {
      "cell_type": "markdown",
      "metadata": {
        "id": "view-in-github",
        "colab_type": "text"
      },
      "source": [
        "<a href=\"https://colab.research.google.com/github/Sagarika-Ande/Python_Problems/blob/main/Python_Problems.ipynb\" target=\"_parent\"><img src=\"https://colab.research.google.com/assets/colab-badge.svg\" alt=\"Open In Colab\"/></a>"
      ]
    },
    {
      "cell_type": "code",
      "execution_count": null,
      "metadata": {
        "colab": {
          "base_uri": "https://localhost:8080/"
        },
        "id": "CLnYxJgyIT5X",
        "outputId": "ae734916-243a-4b9d-83df-b4f6efe94bfe"
      },
      "outputs": [
        {
          "output_type": "stream",
          "name": "stdout",
          "text": [
            "[[1, 2, 3], [4, 5, 6], [7, 8, 9]]\n",
            "[[1, 4, 7], [2, 5, 8], [3, 6, 9]]\n"
          ]
        },
        {
          "output_type": "execute_result",
          "data": {
            "text/plain": [
              "array([[1, 4, 7],\n",
              "       [2, 5, 8],\n",
              "       [3, 6, 9]])"
            ]
          },
          "metadata": {},
          "execution_count": 6
        }
      ],
      "source": [
        "matrix=[[1,2,3],[4,5,6],[7,8,9]]\n",
        "def transpose(matrix):\n",
        "    # rows\n",
        "     n=len(matrix)\n",
        "     #  columns\n",
        "     m=len(matrix)\n",
        "     transposed=[[0 for j in range(n)] for i in range(m)]\n",
        "     for i in range(n):\n",
        "      for j in range(m):\n",
        "        transposed[j][i]=matrix[i][j]\n",
        "     return transposed\n",
        "print(matrix)\n",
        "print(transpose(matrix))\n",
        "\n",
        "# or we have python numpy library\n",
        "import numpy as np\n",
        "matrix=[[1,2,3],[4,5,6],[7,8,9]]\n",
        "np.transpose(matrix)"
      ]
    },
    {
      "cell_type": "code",
      "source": [
        "def buddyStrings(s, goal):\n",
        "    if len(s) != len(goal):\n",
        "        return False\n",
        "    if s == goal:\n",
        "        return len(set(s)) < len(s)\n",
        "    diffs = [(a, b)for a, b in zip(s, goal) if a != b]\n",
        "    return len(diffs) == 2 and diffs[0] == diffs[1][::-1]\n",
        "\n",
        "s = \"abc\"\n",
        "goal = \"cba\"\n",
        "\n",
        "print(buddyStrings(s, goal))\n"
      ],
      "metadata": {
        "colab": {
          "base_uri": "https://localhost:8080/"
        },
        "id": "I0E9DlYnIYNy",
        "outputId": "6bd8353a-7dd1-4060-86c7-89fc4eba1107"
      },
      "execution_count": null,
      "outputs": [
        {
          "output_type": "stream",
          "name": "stdout",
          "text": [
            "True\n"
          ]
        }
      ]
    },
    {
      "cell_type": "code",
      "source": [
        "def uncommonFromSentences(s1,s2):\n",
        "  words1=s1.split()\n",
        "  words2=s2.split()\n",
        "\n",
        "  counts={}\n",
        "  for word in words1+words2:\n",
        "    counts[word]=counts.get(word,0)+1\n",
        "  uncommon=[word for word in counts if counts[word]==1]\n",
        "  return uncommon\n",
        "s1=\"this is sweet\"\n",
        "s2=\"this is hot\"\n",
        "print(uncommonFromSentences(s1,s2))"
      ],
      "metadata": {
        "colab": {
          "base_uri": "https://localhost:8080/"
        },
        "id": "zC4Y5WxENIPf",
        "outputId": "65a8d000-5d19-4df8-9949-dd1d629de645"
      },
      "execution_count": null,
      "outputs": [
        {
          "output_type": "stream",
          "name": "stdout",
          "text": [
            "['sweet', 'hot']\n"
          ]
        }
      ]
    },
    {
      "cell_type": "code",
      "source": [
        "def DetectCapital(word):\n",
        "  if word.isupper():\n",
        "    return True\n",
        "  elif word.islower():\n",
        "    return True\n",
        "  elif word.istitle():\n",
        "    return True\n",
        "  else:\n",
        "    return False\n",
        "word1=\"USA\"\n",
        "word2=\"usa\"\n",
        "word3=\"Usa\"\n",
        "word4=\"uSa\"\n",
        "print(DetectCapital(word1))"
      ],
      "metadata": {
        "colab": {
          "base_uri": "https://localhost:8080/"
        },
        "id": "2UU0qJNPIYKW",
        "outputId": "6d37a367-905c-4b28-d4a9-3ef29d09c543"
      },
      "execution_count": null,
      "outputs": [
        {
          "output_type": "stream",
          "name": "stdout",
          "text": [
            "True\n"
          ]
        }
      ]
    },
    {
      "cell_type": "code",
      "source": [
        "def RepetedSubStringPattern(s):\n",
        "  string=(s+s)[1:-1]\n",
        "  return string.find(s)!=-1\n",
        "print(RepetedSubStringPattern(\"abcdabcd\"))"
      ],
      "metadata": {
        "colab": {
          "base_uri": "https://localhost:8080/"
        },
        "id": "gGd2b9GkIYIH",
        "outputId": "204f9bef-b4ae-4d83-d67f-94d8a2864416"
      },
      "execution_count": null,
      "outputs": [
        {
          "output_type": "stream",
          "name": "stdout",
          "text": [
            "True\n"
          ]
        }
      ]
    },
    {
      "cell_type": "code",
      "source": [
        "def firstUniqueChar(s):\n",
        "    from collections import Counter\n",
        "    count = Counter(s)\n",
        "    for i , j in enumerate(s):\n",
        "        if count[j] == 1:\n",
        "            return i\n",
        "    else:\n",
        "        return -1\n",
        "\n",
        "print(firstUniqueChar(\"amankharwal\"))"
      ],
      "metadata": {
        "colab": {
          "base_uri": "https://localhost:8080/"
        },
        "id": "vDGvR3mAIYFm",
        "outputId": "d2748320-8334-442a-da33-a4b8dda5d998"
      },
      "execution_count": null,
      "outputs": [
        {
          "output_type": "stream",
          "name": "stdout",
          "text": [
            "1\n"
          ]
        }
      ]
    },
    {
      "cell_type": "code",
      "source": [
        "def countSegements(s):\n",
        "  count=len(s.split())\n",
        "  return count\n",
        "print(countSegements(\"This is my Instagram account\"))\n"
      ],
      "metadata": {
        "colab": {
          "base_uri": "https://localhost:8080/"
        },
        "id": "EQVu3BwJIYDW",
        "outputId": "85bc9c51-533e-4111-c3ca-2bc8bbf65984"
      },
      "execution_count": null,
      "outputs": [
        {
          "output_type": "stream",
          "name": "stdout",
          "text": [
            "5\n"
          ]
        }
      ]
    },
    {
      "cell_type": "code",
      "source": [
        "# string=\"Python\"\n",
        "# string[::-1]\n",
        "\n",
        "def ReverseString(s):\n",
        "  return s[::-1]\n",
        "print(ReverseString(\"python\"))"
      ],
      "metadata": {
        "colab": {
          "base_uri": "https://localhost:8080/"
        },
        "id": "PYZUZaFmIYBO",
        "outputId": "90f56b89-2f31-492c-c0e3-099bca9b0a11"
      },
      "execution_count": null,
      "outputs": [
        {
          "output_type": "stream",
          "name": "stdout",
          "text": [
            "nohtyp\n"
          ]
        }
      ]
    },
    {
      "cell_type": "code",
      "source": [
        "def ispalindrome(x):\n",
        "    x = x.lower()\n",
        "    text = \"\"\n",
        "    for i in range(len(x)):\n",
        "        if x[i].isalnum():\n",
        "            text = text + x[i]\n",
        "    return text == text[::-1]\n",
        "\n",
        "print(ispalindrome(\"A man, a plan, a canal: Panama\"))"
      ],
      "metadata": {
        "colab": {
          "base_uri": "https://localhost:8080/"
        },
        "id": "YZWnvqSUIX-N",
        "outputId": "726a8d73-0c52-414a-a7cd-596bbd97d05e"
      },
      "execution_count": null,
      "outputs": [
        {
          "output_type": "stream",
          "name": "stdout",
          "text": [
            "True\n"
          ]
        }
      ]
    },
    {
      "cell_type": "code",
      "source": [],
      "metadata": {
        "id": "AtAZnEwHIX4b"
      },
      "execution_count": null,
      "outputs": []
    },
    {
      "cell_type": "code",
      "source": [
        "def moveZeroes(nums):\n",
        "    zeroes = 0\n",
        "    for i in range(len(nums)):\n",
        "        if nums[i] > 0:\n",
        "            nums[zeroes], nums[i] = nums[i], nums[zeroes]\n",
        "            zeroes = zeroes + 1\n",
        "    return nums\n",
        "\n",
        "nums = [0, 1, 0, 3, 12]\n",
        "print(moveZeroes(nums))"
      ],
      "metadata": {
        "colab": {
          "base_uri": "https://localhost:8080/"
        },
        "id": "i8Q2EQ8FaUdA",
        "outputId": "6f0d43fe-6131-45f0-ea9c-aecfdfca0e0f"
      },
      "execution_count": null,
      "outputs": [
        {
          "output_type": "stream",
          "name": "stdout",
          "text": [
            "[1, 3, 12, 0, 0]\n"
          ]
        }
      ]
    },
    {
      "cell_type": "code",
      "source": [
        "def find_duplicates(x):\n",
        "    length = len(x)\n",
        "    duplicates = []\n",
        "    for i in range(length):\n",
        "        n = i + 1\n",
        "        for a in range(n, length):\n",
        "            if x[i] == x[a] and x[i] not in duplicates:\n",
        "                duplicates.append(x[i])\n",
        "    return duplicates\n",
        "names = [\"Aman\", \"Akanksha\", \"Divyansha\", \"Devyansh\",\n",
        "         \"Aman\", \"Diksha\", \"Akanksha\"]\n",
        "print(find_duplicates(names))"
      ],
      "metadata": {
        "colab": {
          "base_uri": "https://localhost:8080/"
        },
        "id": "bCI75BBdaUZZ",
        "outputId": "1085ac33-c172-4e9d-9334-b4cd318a251b"
      },
      "execution_count": null,
      "outputs": [
        {
          "output_type": "stream",
          "name": "stdout",
          "text": [
            "['Aman', 'Akanksha']\n"
          ]
        }
      ]
    },
    {
      "cell_type": "code",
      "source": [
        "def removeDuplicate(items):\n",
        "    list1 = []\n",
        "    for i in items:\n",
        "        if i not in list1:\n",
        "            list1.append(i)\n",
        "    return list1\n",
        "\n",
        "nums = [0, 0, 1, 1, 1, 2, 2, 3, 3, 4]\n",
        "print(removeDuplicate(nums))"
      ],
      "metadata": {
        "colab": {
          "base_uri": "https://localhost:8080/"
        },
        "id": "0BPE6NUmaUWV",
        "outputId": "0ab6b316-058a-4be0-e2be-fa1b87d1e343"
      },
      "execution_count": null,
      "outputs": [
        {
          "output_type": "stream",
          "name": "stdout",
          "text": [
            "[0, 1, 2, 3, 4]\n"
          ]
        }
      ]
    },
    {
      "cell_type": "code",
      "source": [
        "def majorityElement(nums):\n",
        "    count = 0\n",
        "    major_element = 0\n",
        "    for i in nums:\n",
        "        if count == 0:\n",
        "            major_element = i\n",
        "        if major_element == i:\n",
        "            count = count + 1\n",
        "        else:\n",
        "            count = count - 1\n",
        "    return major_element\n",
        "\n",
        "nums = [2,2,1,1,1,2,2]\n",
        "print(majorityElement(nums))"
      ],
      "metadata": {
        "colab": {
          "base_uri": "https://localhost:8080/"
        },
        "id": "bY8l4PthaUTa",
        "outputId": "9c73391a-1a83-4d07-c966-14bcc6227559"
      },
      "execution_count": null,
      "outputs": [
        {
          "output_type": "stream",
          "name": "stdout",
          "text": [
            "2\n"
          ]
        }
      ]
    },
    {
      "cell_type": "code",
      "source": [
        "def singleNumber(nums):\n",
        "    count = 0\n",
        "    for i in nums:\n",
        "        count = count^i\n",
        "    return count\n",
        "\n",
        "nums = [4, 1, 2, 1, 2]\n",
        "print(singleNumber(nums))"
      ],
      "metadata": {
        "colab": {
          "base_uri": "https://localhost:8080/"
        },
        "id": "jAgZbXv2aUQj",
        "outputId": "30a22b62-8713-494d-9712-225fe8196099"
      },
      "execution_count": null,
      "outputs": [
        {
          "output_type": "stream",
          "name": "stdout",
          "text": [
            "4\n"
          ]
        }
      ]
    },
    {
      "cell_type": "code",
      "source": [
        "def twosum(nums, target):\n",
        "    length = len(nums)\n",
        "    for i in range(length):\n",
        "        for j in range(i + 1, length):\n",
        "            if nums[i] + nums[j] == target:\n",
        "                return [i, j]\n",
        "\n",
        "n = [3, 1, 1, 2]\n",
        "t = 5\n",
        "print(twosum(n, t))\n"
      ],
      "metadata": {
        "colab": {
          "base_uri": "https://localhost:8080/"
        },
        "id": "nzXVRzqklMY3",
        "outputId": "58df9cc9-93d4-462b-ec99-170b45e468cd"
      },
      "execution_count": null,
      "outputs": [
        {
          "output_type": "stream",
          "name": "stdout",
          "text": [
            "[0, 3]\n"
          ]
        }
      ]
    },
    {
      "cell_type": "code",
      "source": [
        "def minimum(x):\n",
        "    minimum_index = 0\n",
        "    current_index = 1\n",
        "    while current_index < len(x):\n",
        "        if x[current_index] < x[minimum_index]:\n",
        "            minimum_index = current_index\n",
        "        current_index = current_index + 1\n",
        "    return minimum_index\n",
        "a = [23, 76, 45, 20, 70, 65, 15, 54]\n",
        "print(minimum(a))"
      ],
      "metadata": {
        "colab": {
          "base_uri": "https://localhost:8080/"
        },
        "id": "fFcEXE3WlMPe",
        "outputId": "3d9ade32-c127-48e1-deeb-5f12f756811e"
      },
      "execution_count": null,
      "outputs": [
        {
          "output_type": "stream",
          "name": "stdout",
          "text": [
            "6\n"
          ]
        }
      ]
    },
    {
      "cell_type": "code",
      "source": [
        "def maximum(x):\n",
        "    maximum_index = 0\n",
        "    current_index = 1\n",
        "    while current_index < len(x):\n",
        "        if x[current_index] > x[maximum_index]:\n",
        "            maximum_index = current_index\n",
        "        current_index = current_index + 1\n",
        "    return maximum_index\n",
        "a = [23, 76, 45, 20, 70, 65, 15, 54]\n",
        "print(maximum(a))"
      ],
      "metadata": {
        "colab": {
          "base_uri": "https://localhost:8080/"
        },
        "id": "b1tJ7H9rlMHG",
        "outputId": "b570650c-f029-4292-e0d9-d74fe727ee74"
      },
      "execution_count": null,
      "outputs": [
        {
          "output_type": "stream",
          "name": "stdout",
          "text": [
            "1\n"
          ]
        }
      ]
    },
    {
      "cell_type": "code",
      "source": [
        "def isPerfectSquare(num):\n",
        "    left = 1\n",
        "    right = num\n",
        "\n",
        "    while left < right:\n",
        "        mid = (left + right) // 2\n",
        "        if mid * mid == num:\n",
        "            return True\n",
        "\n",
        "        elif mid * mid < num:\n",
        "            left = mid + 1\n",
        "\n",
        "        elif mid * mid > num:\n",
        "            right = mid\n",
        "    return False\n",
        "\n",
        "print(isPerfectSquare(49))"
      ],
      "metadata": {
        "colab": {
          "base_uri": "https://localhost:8080/"
        },
        "id": "kJ4ZxpCwrOJ_",
        "outputId": "d78b8987-8f4e-4e9f-b22a-dea0216bfe74"
      },
      "execution_count": null,
      "outputs": [
        {
          "output_type": "stream",
          "name": "stdout",
          "text": [
            "True\n"
          ]
        }
      ]
    },
    {
      "cell_type": "code",
      "source": [
        "def isPowerOfThree(n):\n",
        "    while (n != 1):\n",
        "        if (n % 3 != 0):\n",
        "            return False\n",
        "        n = n // 3\n",
        "    else:\n",
        "        return True\n",
        "print(isPowerOfThree(27))"
      ],
      "metadata": {
        "id": "wdw5_2JxrOGi"
      },
      "execution_count": null,
      "outputs": []
    },
    {
      "cell_type": "code",
      "source": [
        "def isUgly(n):\n",
        "    if n > 0:\n",
        "        factors = [2, 3, 5]\n",
        "        for i in factors:\n",
        "            while n % i == 0:\n",
        "                n = n // i\n",
        "        return n == 1\n",
        "    else:\n",
        "        return 0\n",
        "\n",
        "print(isUgly(6))"
      ],
      "metadata": {
        "colab": {
          "base_uri": "https://localhost:8080/"
        },
        "id": "fNhQkFNfrN8a",
        "outputId": "9d21d6a3-dbeb-429f-b4a8-fc67cb66f904"
      },
      "execution_count": null,
      "outputs": [
        {
          "output_type": "stream",
          "name": "stdout",
          "text": [
            "True\n"
          ]
        }
      ]
    },
    {
      "cell_type": "code",
      "source": [
        "def addDigits(num):\n",
        "    while num > 9:\n",
        "        num = (num % 10) + (num // 10)\n",
        "    return num\n",
        "\n",
        "print(addDigits(38))\n",
        "# 3+8=11 1+1=2"
      ],
      "metadata": {
        "colab": {
          "base_uri": "https://localhost:8080/"
        },
        "id": "ZjMxPcOPrN5D",
        "outputId": "d39bd079-dd4e-4499-aea0-b08821c6c5c8"
      },
      "execution_count": null,
      "outputs": [
        {
          "output_type": "stream",
          "name": "stdout",
          "text": [
            "2\n"
          ]
        }
      ]
    },
    {
      "cell_type": "code",
      "source": [
        "def search(nums, target):\n",
        "    low = 0\n",
        "    high = len(nums) - 1\n",
        "\n",
        "    while low <= high:\n",
        "        mid = (low + high) // 2\n",
        "        if nums[mid] == target:\n",
        "            return mid\n",
        "        elif nums[mid] < target:\n",
        "            low = mid + 1\n",
        "        else:\n",
        "            high = mid - 1\n",
        "    return -1\n",
        "\n",
        "nums = [-1,0,3,5,9,12]\n",
        "target = 9\n",
        "\n",
        "print(search(nums, target))\n"
      ],
      "metadata": {
        "colab": {
          "base_uri": "https://localhost:8080/"
        },
        "id": "T4qNVNSRrN26",
        "outputId": "cdff7c2b-474a-4d76-f7c6-755c0fa69949"
      },
      "execution_count": null,
      "outputs": [
        {
          "output_type": "stream",
          "name": "stdout",
          "text": [
            "4\n"
          ]
        }
      ]
    },
    {
      "cell_type": "code",
      "source": [
        "\n",
        "def findRelativeRanks(scores):\n",
        "    sorted_nums = sorted(scores, reverse = True)\n",
        "    ranks = {}\n",
        "    for i, j in enumerate(sorted_nums):\n",
        "        if i == 0:\n",
        "            ranks[j] = \"Gold Medal\"\n",
        "        elif i == 1:\n",
        "            ranks[j] = \"Silver Medal\"\n",
        "        elif i == 2:\n",
        "            ranks[j] = \"Bronze Medal\"\n",
        "        else:\n",
        "            ranks[j] = str(i + 1)\n",
        "    return [ranks[j] for j in scores]\n",
        "\n",
        "scores = [5,4,3,2,1]\n",
        "print(findRelativeRanks(scores))"
      ],
      "metadata": {
        "colab": {
          "base_uri": "https://localhost:8080/"
        },
        "id": "0nRO01BXC0C5",
        "outputId": "6441e230-be76-47ec-a587-0be26805c8e4"
      },
      "execution_count": null,
      "outputs": [
        {
          "output_type": "stream",
          "name": "stdout",
          "text": [
            "['Gold Medal', 'Silver Medal', 'Bronze Medal', '4', '5']\n"
          ]
        }
      ]
    },
    {
      "cell_type": "code",
      "source": [
        "def climbStairs(num):\n",
        "    a = 1\n",
        "    b = 1\n",
        "    n = num - 1\n",
        "    for i in range(n):\n",
        "        c = a\n",
        "        a = a + b\n",
        "        b = c\n",
        "    return a\n",
        "\n",
        "print(climbStairs(4))"
      ],
      "metadata": {
        "colab": {
          "base_uri": "https://localhost:8080/"
        },
        "id": "iYyAnonOCz_K",
        "outputId": "0165873b-5523-4611-c706-2d8ad95616f7"
      },
      "execution_count": null,
      "outputs": [
        {
          "output_type": "stream",
          "name": "stdout",
          "text": [
            "5\n"
          ]
        }
      ]
    },
    {
      "cell_type": "code",
      "source": [],
      "metadata": {
        "id": "6LqifW_4Cz8C"
      },
      "execution_count": null,
      "outputs": []
    },
    {
      "cell_type": "code",
      "source": [],
      "metadata": {
        "id": "Y3kHSdGRJhHB"
      },
      "execution_count": null,
      "outputs": []
    },
    {
      "cell_type": "code",
      "source": [],
      "metadata": {
        "id": "Fs48KKGOCz5c"
      },
      "execution_count": null,
      "outputs": []
    }
  ]
}